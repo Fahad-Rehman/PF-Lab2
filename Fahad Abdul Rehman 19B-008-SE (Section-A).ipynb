{
 "cells": [
  {
   "cell_type": "code",
   "execution_count": 1,
   "metadata": {},
   "outputs": [
    {
     "name": "stdout",
     "output_type": "stream",
     "text": [
      "15\n"
     ]
    }
   ],
   "source": [
    "#Question No: 1\n",
    "\n",
    "from datetime import date\n",
    "date1 = date(2019, 10, 8)\n",
    "date2 = date(2019, 10, 23)\n",
    "avg = (date2 - date1)\n",
    "print(avg.days)"
   ]
  },
  {
   "cell_type": "code",
   "execution_count": 2,
   "metadata": {
    "scrolled": true
   },
   "outputs": [
    {
     "name": "stdout",
     "output_type": "stream",
     "text": [
      "15.454813220625093\n",
      "0.0\n",
      "16.970562748477143\n",
      "23.63538607229299\n"
     ]
    }
   ],
   "source": [
    "#Question No: 2\n",
    "\n",
    "from math import pi\n",
    "from math import sin\n",
    "\n",
    "#Part a\n",
    "length1 = 16\n",
    "degree1 = 75\n",
    "radians1 = float(pi * degree1/180)\n",
    "height1 = float(length1 * sin(radians1))\n",
    "print(height1)\n",
    "\n",
    "#Part b\n",
    "length2 = 20\n",
    "degree2 = 0\n",
    "radians2 = float(pi * degree2/180)\n",
    "height2 = float(length2 * sin(radians2))\n",
    "print(height2)\n",
    "\n",
    "#Part c\n",
    "length3 = 24\n",
    "degree3 = 45\n",
    "radians3 = float(pi * degree3/180)\n",
    "height3 = float(length3 * sin(radians3))\n",
    "print(height3)\n",
    "\n",
    "#Part d\n",
    "length4 = 24\n",
    "degree4 = 80\n",
    "radians4 = float(pi * degree4/180)\n",
    "height4 = float(length4 * sin(radians4))\n",
    "print(height4)"
   ]
  },
  {
   "cell_type": "code",
   "execution_count": 3,
   "metadata": {},
   "outputs": [
    {
     "name": "stdout",
     "output_type": "stream",
     "text": [
      "6\n",
      "98\n",
      "[112, 107, 98, 87, 70, 52, 37, 31, 23, 15, 12, 11, 7]\n",
      "[112, 107, 98, 87, 70, 52, 37, 23, 15, 12, 11, 7, 31]\n"
     ]
    }
   ],
   "source": [
    "#Question No: 3\n",
    "lst = [31, 15, 12, 37, 52, 7, 98, 107, 23, 70, 11, 112, 87]\n",
    "\n",
    "#Part a\n",
    "list_length = len(lst)\n",
    "middle_index = int(list_length / 2)\n",
    "print(middle_index)\n",
    "\n",
    "#Part b\n",
    "lst1 = lst[6]\n",
    "print(lst1)\n",
    "\n",
    "#Part c\n",
    "lst2 = lst\n",
    "lst2.sort(reverse = True)\n",
    "print(lst2)\n",
    "\n",
    "#Part d\n",
    "lst.remove(31)\n",
    "lst.extend([31])\n",
    "print(lst)"
   ]
  },
  {
   "cell_type": "code",
   "execution_count": 4,
   "metadata": {},
   "outputs": [
    {
     "name": "stdout",
     "output_type": "stream",
     "text": [
      "['Jan', 'Feb', 'Mar', 'Apr', 'May']\n"
     ]
    },
    {
     "ename": "AttributeError",
     "evalue": "'tuple' object has no attribute 'insert'",
     "output_type": "error",
     "traceback": [
      "\u001b[1;31m---------------------------------------------------------------------------\u001b[0m",
      "\u001b[1;31mAttributeError\u001b[0m                            Traceback (most recent call last)",
      "\u001b[1;32m<ipython-input-4-f453e62f2e5a>\u001b[0m in \u001b[0;36m<module>\u001b[1;34m\u001b[0m\n\u001b[0;32m      6\u001b[0m \u001b[0mmonthsL\u001b[0m\u001b[1;33m.\u001b[0m\u001b[0minsert\u001b[0m\u001b[1;33m(\u001b[0m\u001b[1;36m3\u001b[0m\u001b[1;33m,\u001b[0m \u001b[1;34m'Apr'\u001b[0m\u001b[1;33m)\u001b[0m\u001b[1;33m\u001b[0m\u001b[1;33m\u001b[0m\u001b[0m\n\u001b[0;32m      7\u001b[0m \u001b[0mprint\u001b[0m\u001b[1;33m(\u001b[0m\u001b[0mmonthsL\u001b[0m\u001b[1;33m)\u001b[0m\u001b[1;33m\u001b[0m\u001b[1;33m\u001b[0m\u001b[0m\n\u001b[1;32m----> 8\u001b[1;33m \u001b[0mmonthsT\u001b[0m\u001b[1;33m.\u001b[0m\u001b[0minsert\u001b[0m\u001b[1;33m(\u001b[0m\u001b[1;36m3\u001b[0m\u001b[1;33m,\u001b[0m \u001b[1;34m'Apr'\u001b[0m\u001b[1;33m)\u001b[0m\u001b[1;33m\u001b[0m\u001b[1;33m\u001b[0m\u001b[0m\n\u001b[0m\u001b[0;32m      9\u001b[0m \u001b[0mprint\u001b[0m\u001b[1;33m(\u001b[0m\u001b[0mmonthsT\u001b[0m\u001b[1;33m)\u001b[0m\u001b[1;33m\u001b[0m\u001b[1;33m\u001b[0m\u001b[0m\n",
      "\u001b[1;31mAttributeError\u001b[0m: 'tuple' object has no attribute 'insert'"
     ]
    }
   ],
   "source": [
    "#Question No: 4\n",
    "monthsL = ['Jan', 'Feb', 'Mar', 'May']\n",
    "monthsT = ('Jan', 'Feb', 'Mar', 'May')\n",
    "\n",
    "#Part a\n",
    "monthsL.insert(3, 'Apr')\n",
    "print(monthsL)\n",
    "monthsT.insert(3, 'Apr')\n",
    "print(monthsT)\n"
   ]
  },
  {
   "cell_type": "code",
   "execution_count": 78,
   "metadata": {},
   "outputs": [
    {
     "name": "stdout",
     "output_type": "stream",
     "text": [
      "['Jan', 'Feb', 'Mar', 'May', 'Jun']\n"
     ]
    },
    {
     "ename": "AttributeError",
     "evalue": "'tuple' object has no attribute 'append'",
     "output_type": "error",
     "traceback": [
      "\u001b[1;31m---------------------------------------------------------------------------\u001b[0m",
      "\u001b[1;31mAttributeError\u001b[0m                            Traceback (most recent call last)",
      "\u001b[1;32m<ipython-input-78-d7613428fe06>\u001b[0m in \u001b[0;36m<module>\u001b[1;34m()\u001b[0m\n\u001b[0;32m      7\u001b[0m \u001b[0mmonthsL\u001b[0m\u001b[1;33m.\u001b[0m\u001b[0mappend\u001b[0m\u001b[1;33m(\u001b[0m\u001b[1;34m'Jun'\u001b[0m\u001b[1;33m)\u001b[0m\u001b[1;33m\u001b[0m\u001b[0m\n\u001b[0;32m      8\u001b[0m \u001b[0mprint\u001b[0m\u001b[1;33m(\u001b[0m\u001b[0mmonthsL\u001b[0m\u001b[1;33m)\u001b[0m\u001b[1;33m\u001b[0m\u001b[0m\n\u001b[1;32m----> 9\u001b[1;33m \u001b[0mmonthsT\u001b[0m\u001b[1;33m.\u001b[0m\u001b[0mappend\u001b[0m\u001b[1;33m(\u001b[0m\u001b[1;34m'Jun'\u001b[0m\u001b[1;33m)\u001b[0m\u001b[1;33m\u001b[0m\u001b[0m\n\u001b[0m\u001b[0;32m     10\u001b[0m \u001b[0mprint\u001b[0m\u001b[1;33m(\u001b[0m\u001b[0mmonthsT\u001b[0m\u001b[1;33m)\u001b[0m\u001b[1;33m\u001b[0m\u001b[0m\n",
      "\u001b[1;31mAttributeError\u001b[0m: 'tuple' object has no attribute 'append'"
     ]
    }
   ],
   "source": [
    "#Question No: 4\n",
    "\n",
    "monthsL = ['Jan', 'Feb', 'Mar', 'May']\n",
    "monthsT = ('Jan', 'Feb', 'Mar', 'May')\n",
    "\n",
    "#Part b\n",
    "monthsL.append('Jun')\n",
    "print(monthsL)\n",
    "monthsT.append('Jun')\n",
    "print(monthsT)"
   ]
  },
  {
   "cell_type": "code",
   "execution_count": 79,
   "metadata": {},
   "outputs": [
    {
     "name": "stdout",
     "output_type": "stream",
     "text": [
      "['Jan', 'Feb', 'Mar']\n"
     ]
    },
    {
     "ename": "AttributeError",
     "evalue": "'tuple' object has no attribute 'pop'",
     "output_type": "error",
     "traceback": [
      "\u001b[1;31m---------------------------------------------------------------------------\u001b[0m",
      "\u001b[1;31mAttributeError\u001b[0m                            Traceback (most recent call last)",
      "\u001b[1;32m<ipython-input-79-3f5668e1f78a>\u001b[0m in \u001b[0;36m<module>\u001b[1;34m()\u001b[0m\n\u001b[0;32m      7\u001b[0m \u001b[0mmonthsL\u001b[0m\u001b[1;33m.\u001b[0m\u001b[0mpop\u001b[0m\u001b[1;33m(\u001b[0m\u001b[1;33m)\u001b[0m\u001b[1;33m\u001b[0m\u001b[0m\n\u001b[0;32m      8\u001b[0m \u001b[0mprint\u001b[0m\u001b[1;33m(\u001b[0m\u001b[0mmonthsL\u001b[0m\u001b[1;33m)\u001b[0m\u001b[1;33m\u001b[0m\u001b[0m\n\u001b[1;32m----> 9\u001b[1;33m \u001b[0mmonthsT\u001b[0m\u001b[1;33m.\u001b[0m\u001b[0mpop\u001b[0m\u001b[1;33m(\u001b[0m\u001b[1;33m)\u001b[0m\u001b[1;33m\u001b[0m\u001b[0m\n\u001b[0m\u001b[0;32m     10\u001b[0m \u001b[0mprint\u001b[0m\u001b[1;33m(\u001b[0m\u001b[0mmonthsT\u001b[0m\u001b[1;33m)\u001b[0m\u001b[1;33m\u001b[0m\u001b[0m\n",
      "\u001b[1;31mAttributeError\u001b[0m: 'tuple' object has no attribute 'pop'"
     ]
    }
   ],
   "source": [
    "#Question No: 4\n",
    "\n",
    "monthsL = ['Jan', 'Feb', 'Mar', 'May']\n",
    "monthsT = ('Jan', 'Feb', 'Mar', 'May')\n",
    "\n",
    "#Part c\n",
    "monthsL.pop()\n",
    "print(monthsL)\n",
    "monthsT.pop()\n",
    "print(monthsT)"
   ]
  },
  {
   "cell_type": "code",
   "execution_count": 70,
   "metadata": {},
   "outputs": [
    {
     "name": "stdout",
     "output_type": "stream",
     "text": [
      "['Jan', 'Mar', 'May']\n"
     ]
    },
    {
     "ename": "AttributeError",
     "evalue": "'tuple' object has no attribute 'remove'",
     "output_type": "error",
     "traceback": [
      "\u001b[1;31m---------------------------------------------------------------------------\u001b[0m",
      "\u001b[1;31mAttributeError\u001b[0m                            Traceback (most recent call last)",
      "\u001b[1;32m<ipython-input-70-b1ff6d367627>\u001b[0m in \u001b[0;36m<module>\u001b[1;34m()\u001b[0m\n\u001b[0;32m      7\u001b[0m \u001b[0mmonthsL\u001b[0m\u001b[1;33m.\u001b[0m\u001b[0mremove\u001b[0m\u001b[1;33m(\u001b[0m\u001b[1;34m'Feb'\u001b[0m\u001b[1;33m)\u001b[0m\u001b[1;33m\u001b[0m\u001b[0m\n\u001b[0;32m      8\u001b[0m \u001b[0mprint\u001b[0m\u001b[1;33m(\u001b[0m\u001b[0mmonthsL\u001b[0m\u001b[1;33m)\u001b[0m\u001b[1;33m\u001b[0m\u001b[0m\n\u001b[1;32m----> 9\u001b[1;33m \u001b[0mmonthsT\u001b[0m\u001b[1;33m.\u001b[0m\u001b[0mremove\u001b[0m\u001b[1;33m(\u001b[0m\u001b[1;34m'Feb'\u001b[0m\u001b[1;33m)\u001b[0m\u001b[1;33m\u001b[0m\u001b[0m\n\u001b[0m\u001b[0;32m     10\u001b[0m \u001b[0mprint\u001b[0m\u001b[1;33m(\u001b[0m\u001b[0mmonthsT\u001b[0m\u001b[1;33m)\u001b[0m\u001b[1;33m\u001b[0m\u001b[0m\n",
      "\u001b[1;31mAttributeError\u001b[0m: 'tuple' object has no attribute 'remove'"
     ]
    }
   ],
   "source": [
    "#Question No: 4\n",
    "\n",
    "monthsL = ['Jan', 'Feb', 'Mar', 'May']\n",
    "monthsT = ('Jan', 'Feb', 'Mar', 'May')\n",
    "\n",
    "#Part d\n",
    "monthsL.remove('Feb')\n",
    "print(monthsL)\n",
    "monthsT.remove('Feb')\n",
    "print(monthsT)"
   ]
  },
  {
   "cell_type": "code",
   "execution_count": 72,
   "metadata": {},
   "outputs": [
    {
     "name": "stdout",
     "output_type": "stream",
     "text": [
      "['May', 'Mar', 'Feb', 'Jan']\n"
     ]
    },
    {
     "ename": "AttributeError",
     "evalue": "'tuple' object has no attribute 'reverse'",
     "output_type": "error",
     "traceback": [
      "\u001b[1;31m---------------------------------------------------------------------------\u001b[0m",
      "\u001b[1;31mAttributeError\u001b[0m                            Traceback (most recent call last)",
      "\u001b[1;32m<ipython-input-72-b726d167c608>\u001b[0m in \u001b[0;36m<module>\u001b[1;34m()\u001b[0m\n\u001b[0;32m      7\u001b[0m \u001b[0mmonthsL\u001b[0m\u001b[1;33m.\u001b[0m\u001b[0mreverse\u001b[0m\u001b[1;33m(\u001b[0m\u001b[1;33m)\u001b[0m\u001b[1;33m\u001b[0m\u001b[0m\n\u001b[0;32m      8\u001b[0m \u001b[0mprint\u001b[0m\u001b[1;33m(\u001b[0m\u001b[0mmonthsL\u001b[0m\u001b[1;33m)\u001b[0m\u001b[1;33m\u001b[0m\u001b[0m\n\u001b[1;32m----> 9\u001b[1;33m \u001b[0mmonthsT\u001b[0m\u001b[1;33m.\u001b[0m\u001b[0mreverse\u001b[0m\u001b[1;33m(\u001b[0m\u001b[1;33m)\u001b[0m\u001b[1;33m\u001b[0m\u001b[0m\n\u001b[0m\u001b[0;32m     10\u001b[0m \u001b[0mprint\u001b[0m\u001b[1;33m(\u001b[0m\u001b[0mmonthsT\u001b[0m\u001b[1;33m)\u001b[0m\u001b[1;33m\u001b[0m\u001b[0m\n",
      "\u001b[1;31mAttributeError\u001b[0m: 'tuple' object has no attribute 'reverse'"
     ]
    }
   ],
   "source": [
    "#Question No: 4\n",
    "\n",
    "monthsL = ['Jan', 'Feb', 'Mar', 'May']\n",
    "monthsT = ('Jan', 'Feb', 'Mar', 'May')\n",
    "\n",
    "#Part e\n",
    "monthsL.reverse()\n",
    "print(monthsL)\n",
    "monthsT.reverse()\n",
    "print(monthsT)"
   ]
  },
  {
   "cell_type": "code",
   "execution_count": 73,
   "metadata": {},
   "outputs": [
    {
     "name": "stdout",
     "output_type": "stream",
     "text": [
      "['Feb', 'Jan', 'Mar', 'May']\n"
     ]
    },
    {
     "ename": "AttributeError",
     "evalue": "'tuple' object has no attribute 'sort'",
     "output_type": "error",
     "traceback": [
      "\u001b[1;31m---------------------------------------------------------------------------\u001b[0m",
      "\u001b[1;31mAttributeError\u001b[0m                            Traceback (most recent call last)",
      "\u001b[1;32m<ipython-input-73-8924b7e29737>\u001b[0m in \u001b[0;36m<module>\u001b[1;34m()\u001b[0m\n\u001b[0;32m      7\u001b[0m \u001b[0mmonthsL\u001b[0m\u001b[1;33m.\u001b[0m\u001b[0msort\u001b[0m\u001b[1;33m(\u001b[0m\u001b[1;33m)\u001b[0m\u001b[1;33m\u001b[0m\u001b[0m\n\u001b[0;32m      8\u001b[0m \u001b[0mprint\u001b[0m\u001b[1;33m(\u001b[0m\u001b[0mmonthsL\u001b[0m\u001b[1;33m)\u001b[0m\u001b[1;33m\u001b[0m\u001b[0m\n\u001b[1;32m----> 9\u001b[1;33m \u001b[0mmonthsT\u001b[0m\u001b[1;33m.\u001b[0m\u001b[0msort\u001b[0m\u001b[1;33m(\u001b[0m\u001b[1;33m)\u001b[0m\u001b[1;33m\u001b[0m\u001b[0m\n\u001b[0m\u001b[0;32m     10\u001b[0m \u001b[0mprint\u001b[0m\u001b[1;33m(\u001b[0m\u001b[0mmonthsT\u001b[0m\u001b[1;33m)\u001b[0m\u001b[1;33m\u001b[0m\u001b[0m\n",
      "\u001b[1;31mAttributeError\u001b[0m: 'tuple' object has no attribute 'sort'"
     ]
    }
   ],
   "source": [
    "#Question No: 4\n",
    "\n",
    "monthsL = ['Jan', 'Feb', 'Mar', 'May']\n",
    "monthsT = ('Jan', 'Feb', 'Mar', 'May')\n",
    "\n",
    "#Part f\n",
    "monthsL.sort()\n",
    "print(monthsL)\n",
    "monthsT.sort()\n",
    "print(monthsT)"
   ]
  },
  {
   "cell_type": "code",
   "execution_count": 22,
   "metadata": {},
   "outputs": [
    {
     "name": "stdout",
     "output_type": "stream",
     "text": [
      "anachronistically\n",
      "misinterpretation\n",
      "misrepresentation\n",
      "Not found\n",
      "They are equal\n"
     ]
    }
   ],
   "source": [
    "#Question No: 5\n",
    "#Part a\n",
    "a = len(\"anachronistically\")\n",
    "b = len(\"counterintuitive\")\n",
    "\n",
    "if a > b:\n",
    "    print(\"anachronistically\")\n",
    "else:\n",
    "    print(\"counterintuitive\")\n",
    "\n",
    "#Part b\n",
    "words = {'misrepresentation': 'c' ,\n",
    "        'misinterpretation': 'python' ,\n",
    "        }\n",
    "for words in sorted(words.keys()):\n",
    "    print(words)\n",
    "\n",
    "#Part c\n",
    "c = \"floccinaucinihilipilification\"\n",
    "find = \"e\"\n",
    "if find in c:\n",
    "    print(\"Found\")\n",
    "else:\n",
    "    print(\"Not found\")\n",
    "\n",
    "#Part d\n",
    "A = len(\"counterrevolution\")\n",
    "B = len(\"Counter\")\n",
    "C = len(\"Resolution\")\n",
    "total_sum = B + C\n",
    "if A == total_sum:\n",
    "    print(\"They are equal\")\n",
    "else:\n",
    "    print(\"They are not equal\")"
   ]
  },
  {
   "cell_type": "code",
   "execution_count": 21,
   "metadata": {},
   "outputs": [],
   "source": [
    "#Question No: 6\n",
    "a = 6\n",
    "b = 7\n",
    "c = float(a+b) / 2\n",
    "list = ('paper ', 'staples ', 'pencils ')\n",
    "inventory = list\n",
    "first = str('John')\n",
    "middle = str('Fitzgerald')\n",
    "last = str('Kennedy')\n",
    "fullname = (first + \" \" + middle + \" \" + last)\n"
   ]
  },
  {
   "cell_type": "code",
   "execution_count": 11,
   "metadata": {},
   "outputs": [
    {
     "name": "stdout",
     "output_type": "stream",
     "text": [
      "Enter the value of x: 0\n",
      "Enter the value of y: 0\n",
      "True\n",
      "Enter the value of x: 10\n",
      "Enter the value of y: 10\n",
      "True\n",
      "Enter the value of x: 6\n",
      "Enter the value of y: 6\n",
      "True\n",
      "Enter the value of x: 7\n",
      "Enter the value of y: 8\n",
      "True\n"
     ]
    }
   ],
   "source": [
    "#Question No: 7\n",
    "\n",
    "#Part a\n",
    "x = int(input(\"Enter the value of x: \"))\n",
    "y = int(input(\"Enter the value of y: \"))\n",
    "if x<=10 and y<=10:\n",
    "    print(\"True\")\n",
    "else:\n",
    "    print(\"False\")\n",
    "\n",
    "#Part b\n",
    "x = int(input(\"Enter the value of x: \"))\n",
    "y = int(input(\"Enter the value of y: \"))\n",
    "if x<=10 and y<=10:\n",
    "    print(\"True\")\n",
    "else:\n",
    "    print(\"False\")\n",
    "\n",
    "#Part c\n",
    "x = int(input(\"Enter the value of x: \"))\n",
    "y = int(input(\"Enter the value of y: \"))\n",
    "if x<=10 and y<=10:\n",
    "    print(\"True\")\n",
    "else:\n",
    "    print(\"False\")\n",
    "\n",
    "#Part d\n",
    "x = int(input(\"Enter the value of x: \"))\n",
    "y = int(input(\"Enter the value of y: \"))\n",
    "if x<=10 and y<=10:\n",
    "    print(\"True\")\n",
    "else:\n",
    "    print(\"False\")"
   ]
  }
 ],
 "metadata": {
  "kernelspec": {
   "display_name": "Python 3",
   "language": "python",
   "name": "python3"
  },
  "language_info": {
   "codemirror_mode": {
    "name": "ipython",
    "version": 3
   },
   "file_extension": ".py",
   "mimetype": "text/x-python",
   "name": "python",
   "nbconvert_exporter": "python",
   "pygments_lexer": "ipython3",
   "version": "3.7.3"
  }
 },
 "nbformat": 4,
 "nbformat_minor": 2
}
